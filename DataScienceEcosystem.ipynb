{
 "cells": [
  {
   "cell_type": "markdown",
   "id": "533ab5fe-c815-4bd9-bffc-a627a316fb6d",
   "metadata": {},
   "source": [
    "<title>\n",
    "    <H1>Data Science Tools and Ecosystem</H1>\n",
    "</title>  "
   ]
  },
  {
   "cell_type": "markdown",
   "id": "0e550a15-b3ff-4cc1-b20a-e204e1a2934f",
   "metadata": {},
   "source": [
    "<H2>In this notebook, Data Science Tools and Ecosystem are summarized</H2>\n",
    "Objectives\n",
    "<ul>List popular languages for Data Science</ul>\n",
    "<ul>a.Python</ul>\n",
    "<ul>b.Jupyter</ul>\n",
    "<ul>c.R</ul>"
   ]
  },
  {
   "cell_type": "markdown",
   "id": "7fdd9bd8-9c6a-406e-b4c6-b9c54bf86fa9",
   "metadata": {},
   "source": [
    "Some of the popular languages that Data Scientists use are:\n"
   ]
  },
  {
   "cell_type": "markdown",
   "id": "08210aae-9027-4411-8463-083ff8be2fa7",
   "metadata": {},
   "source": [
    "<ol>1. Python</ol>\n",
    "<ol>2. Jupyter</ol>\n",
    "<ol>3. R</ol>"
   ]
  },
  {
   "cell_type": "markdown",
   "id": "5f6e34fe-3fff-4101-967e-d91a6cbc6cc8",
   "metadata": {},
   "source": [
    "Some of the commonly used libraries used by Data Scientists"
   ]
  },
  {
   "cell_type": "markdown",
   "id": "c86b53db-368d-4f85-8199-94a150f64bc2",
   "metadata": {},
   "source": [
    "<ol>1. NumPy</ol>\n",
    "<ol>2. Pandas</ol>\n",
    "<ol>3. SciPy</ol>\n",
    "<ol>4.TensorFlow</ol>"
   ]
  },
  {
   "cell_type": "markdown",
   "id": "1cb51ee9-6eff-440b-a613-64e60a2776b1",
   "metadata": {},
   "source": [
    "<td>Data Science Tools</td>"
   ]
  },
  {
   "cell_type": "markdown",
   "id": "ee436c1d-d6a8-405d-807b-7b542cacde13",
   "metadata": {},
   "source": [
    "<tr>NumPy</tr>\n",
    "<tr>SciPy</tr>\n",
    "<tr>Pandas</tr>"
   ]
  },
  {
   "cell_type": "markdown",
   "id": "e715a550-7126-4c7c-a5c6-ec2f67c60962",
   "metadata": {},
   "source": [
    "<H3>Below are a few examples of evaluating arthimetic expressions in Python</H3>"
   ]
  },
  {
   "cell_type": "markdown",
   "id": "c9ccd3d8-519c-436b-be3b-b52bc8ea138e",
   "metadata": {},
   "source": [
    "This is a simple arithmetic expression to multiply then add numbers"
   ]
  },
  {
   "cell_type": "code",
   "execution_count": 30,
   "id": "3b0c75d4-49b7-4bdd-9d0e-f2be709eea95",
   "metadata": {},
   "outputs": [
    {
     "data": {
      "text/plain": [
       "17"
      ]
     },
     "execution_count": 30,
     "metadata": {},
     "output_type": "execute_result"
    }
   ],
   "source": [
    "(3*4)+5\n"
   ]
  },
  {
   "cell_type": "markdown",
   "id": "355a350b-878e-4fc1-a882-e4714973a17f",
   "metadata": {},
   "source": [
    "This will convert 200 minutes to hours by dividing by 60"
   ]
  },
  {
   "cell_type": "code",
   "execution_count": 31,
   "id": "5e5254ae-3d01-4552-b6b2-bd321c19e987",
   "metadata": {},
   "outputs": [
    {
     "data": {
      "text/plain": [
       "3.3333333333333335"
      ]
     },
     "execution_count": 31,
     "metadata": {},
     "output_type": "execute_result"
    }
   ],
   "source": [
    "200/60"
   ]
  },
  {
   "cell_type": "markdown",
   "id": "4cb2c347-c494-45be-a3a7-f7d7f9915231",
   "metadata": {},
   "source": [
    "<H2><style>Author</style></H2>"
   ]
  },
  {
   "cell_type": "markdown",
   "id": "fc47da0c-f7cb-447d-b888-d5e3cec75d4e",
   "metadata": {},
   "source": [
    "<H2>Author Name</H2>"
   ]
  },
  {
   "cell_type": "code",
   "execution_count": null,
   "id": "ca154db4-3849-44e0-a674-79fd5c5025af",
   "metadata": {},
   "outputs": [],
   "source": []
  }
 ],
 "metadata": {
  "kernelspec": {
   "display_name": "anaconda-2022.05-py39",
   "language": "python",
   "name": "conda-env-anaconda-2022.05-py39-py"
  },
  "language_info": {
   "codemirror_mode": {
    "name": "ipython",
    "version": 3
   },
   "file_extension": ".py",
   "mimetype": "text/x-python",
   "name": "python",
   "nbconvert_exporter": "python",
   "pygments_lexer": "ipython3",
   "version": "3.9.12"
  }
 },
 "nbformat": 4,
 "nbformat_minor": 5
}
